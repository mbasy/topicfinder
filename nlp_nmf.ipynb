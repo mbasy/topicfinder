{
  "nbformat": 4,
  "nbformat_minor": 0,
  "metadata": {
    "colab": {
      "provenance": []
    },
    "kernelspec": {
      "name": "python3",
      "display_name": "Python 3"
    },
    "language_info": {
      "name": "python"
    }
  },
  "cells": [
    {
      "cell_type": "code",
      "execution_count": null,
      "metadata": {
        "colab": {
          "base_uri": "https://localhost:8080/",
          "height": 206
        },
        "id": "Dw5hTtNa98h9",
        "outputId": "2911dc68-3af3-4405-eed6-9f5870453c34"
      },
      "outputs": [
        {
          "output_type": "execute_result",
          "data": {
            "text/plain": [
              "                  Date                                             Ärende  \\\n",
              "0  2022-07-05 11:02:27  hallå hallå  ja det är lite dålig täckning äve...   \n",
              "1  2022-07-05 11:02:27  hallå hallå  ja det är lite dålig täckning äve...   \n",
              "2  2022-07-05 11:02:27  hallå hallå  ja det är lite dålig täckning äve...   \n",
              "3  2022-07-05 11:02:27  hallå hallå  ja det är lite dålig täckning äve...   \n",
              "4  2022-07-05 11:02:27  hallå hallå  ja det är lite dålig täckning äve...   \n",
              "\n",
              "                                             phrases  \\\n",
              "0  början ren väldigt torr, klippen  smörkniv väl...   \n",
              "1  början ren väldigt torr, klippen  smörkniv väl...   \n",
              "2  början ren väldigt torr, klippen  smörkniv väl...   \n",
              "3  början ren väldigt torr, klippen  smörkniv väl...   \n",
              "4  början ren väldigt torr, klippen  smörkniv väl...   \n",
              "\n",
              "                                         phrase  \n",
              "0                       början ren väldigt torr  \n",
              "1   klippen  smörkniv väldigt leverpastej tryck  \n",
              "2                               ryska kattlådan  \n",
              "3                             ställen kattlådan  \n",
              "4                           kattlådan sovrummet  "
            ],
            "text/html": [
              "\n",
              "  <div id=\"df-65788b8c-6d62-41a5-82ef-f5efe34fe4fd\">\n",
              "    <div class=\"colab-df-container\">\n",
              "      <div>\n",
              "<style scoped>\n",
              "    .dataframe tbody tr th:only-of-type {\n",
              "        vertical-align: middle;\n",
              "    }\n",
              "\n",
              "    .dataframe tbody tr th {\n",
              "        vertical-align: top;\n",
              "    }\n",
              "\n",
              "    .dataframe thead th {\n",
              "        text-align: right;\n",
              "    }\n",
              "</style>\n",
              "<table border=\"1\" class=\"dataframe\">\n",
              "  <thead>\n",
              "    <tr style=\"text-align: right;\">\n",
              "      <th></th>\n",
              "      <th>Date</th>\n",
              "      <th>Ärende</th>\n",
              "      <th>phrases</th>\n",
              "      <th>phrase</th>\n",
              "    </tr>\n",
              "  </thead>\n",
              "  <tbody>\n",
              "    <tr>\n",
              "      <th>0</th>\n",
              "      <td>2022-07-05 11:02:27</td>\n",
              "      <td>hallå hallå  ja det är lite dålig täckning äve...</td>\n",
              "      <td>början ren väldigt torr, klippen  smörkniv väl...</td>\n",
              "      <td>början ren väldigt torr</td>\n",
              "    </tr>\n",
              "    <tr>\n",
              "      <th>1</th>\n",
              "      <td>2022-07-05 11:02:27</td>\n",
              "      <td>hallå hallå  ja det är lite dålig täckning äve...</td>\n",
              "      <td>början ren väldigt torr, klippen  smörkniv väl...</td>\n",
              "      <td>klippen  smörkniv väldigt leverpastej tryck</td>\n",
              "    </tr>\n",
              "    <tr>\n",
              "      <th>2</th>\n",
              "      <td>2022-07-05 11:02:27</td>\n",
              "      <td>hallå hallå  ja det är lite dålig täckning äve...</td>\n",
              "      <td>början ren väldigt torr, klippen  smörkniv väl...</td>\n",
              "      <td>ryska kattlådan</td>\n",
              "    </tr>\n",
              "    <tr>\n",
              "      <th>3</th>\n",
              "      <td>2022-07-05 11:02:27</td>\n",
              "      <td>hallå hallå  ja det är lite dålig täckning äve...</td>\n",
              "      <td>början ren väldigt torr, klippen  smörkniv väl...</td>\n",
              "      <td>ställen kattlådan</td>\n",
              "    </tr>\n",
              "    <tr>\n",
              "      <th>4</th>\n",
              "      <td>2022-07-05 11:02:27</td>\n",
              "      <td>hallå hallå  ja det är lite dålig täckning äve...</td>\n",
              "      <td>början ren väldigt torr, klippen  smörkniv väl...</td>\n",
              "      <td>kattlådan sovrummet</td>\n",
              "    </tr>\n",
              "  </tbody>\n",
              "</table>\n",
              "</div>\n",
              "      <button class=\"colab-df-convert\" onclick=\"convertToInteractive('df-65788b8c-6d62-41a5-82ef-f5efe34fe4fd')\"\n",
              "              title=\"Convert this dataframe to an interactive table.\"\n",
              "              style=\"display:none;\">\n",
              "        \n",
              "  <svg xmlns=\"http://www.w3.org/2000/svg\" height=\"24px\"viewBox=\"0 0 24 24\"\n",
              "       width=\"24px\">\n",
              "    <path d=\"M0 0h24v24H0V0z\" fill=\"none\"/>\n",
              "    <path d=\"M18.56 5.44l.94 2.06.94-2.06 2.06-.94-2.06-.94-.94-2.06-.94 2.06-2.06.94zm-11 1L8.5 8.5l.94-2.06 2.06-.94-2.06-.94L8.5 2.5l-.94 2.06-2.06.94zm10 10l.94 2.06.94-2.06 2.06-.94-2.06-.94-.94-2.06-.94 2.06-2.06.94z\"/><path d=\"M17.41 7.96l-1.37-1.37c-.4-.4-.92-.59-1.43-.59-.52 0-1.04.2-1.43.59L10.3 9.45l-7.72 7.72c-.78.78-.78 2.05 0 2.83L4 21.41c.39.39.9.59 1.41.59.51 0 1.02-.2 1.41-.59l7.78-7.78 2.81-2.81c.8-.78.8-2.07 0-2.86zM5.41 20L4 18.59l7.72-7.72 1.47 1.35L5.41 20z\"/>\n",
              "  </svg>\n",
              "      </button>\n",
              "      \n",
              "  <style>\n",
              "    .colab-df-container {\n",
              "      display:flex;\n",
              "      flex-wrap:wrap;\n",
              "      gap: 12px;\n",
              "    }\n",
              "\n",
              "    .colab-df-convert {\n",
              "      background-color: #E8F0FE;\n",
              "      border: none;\n",
              "      border-radius: 50%;\n",
              "      cursor: pointer;\n",
              "      display: none;\n",
              "      fill: #1967D2;\n",
              "      height: 32px;\n",
              "      padding: 0 0 0 0;\n",
              "      width: 32px;\n",
              "    }\n",
              "\n",
              "    .colab-df-convert:hover {\n",
              "      background-color: #E2EBFA;\n",
              "      box-shadow: 0px 1px 2px rgba(60, 64, 67, 0.3), 0px 1px 3px 1px rgba(60, 64, 67, 0.15);\n",
              "      fill: #174EA6;\n",
              "    }\n",
              "\n",
              "    [theme=dark] .colab-df-convert {\n",
              "      background-color: #3B4455;\n",
              "      fill: #D2E3FC;\n",
              "    }\n",
              "\n",
              "    [theme=dark] .colab-df-convert:hover {\n",
              "      background-color: #434B5C;\n",
              "      box-shadow: 0px 1px 3px 1px rgba(0, 0, 0, 0.15);\n",
              "      filter: drop-shadow(0px 1px 2px rgba(0, 0, 0, 0.3));\n",
              "      fill: #FFFFFF;\n",
              "    }\n",
              "  </style>\n",
              "\n",
              "      <script>\n",
              "        const buttonEl =\n",
              "          document.querySelector('#df-65788b8c-6d62-41a5-82ef-f5efe34fe4fd button.colab-df-convert');\n",
              "        buttonEl.style.display =\n",
              "          google.colab.kernel.accessAllowed ? 'block' : 'none';\n",
              "\n",
              "        async function convertToInteractive(key) {\n",
              "          const element = document.querySelector('#df-65788b8c-6d62-41a5-82ef-f5efe34fe4fd');\n",
              "          const dataTable =\n",
              "            await google.colab.kernel.invokeFunction('convertToInteractive',\n",
              "                                                     [key], {});\n",
              "          if (!dataTable) return;\n",
              "\n",
              "          const docLinkHtml = 'Like what you see? Visit the ' +\n",
              "            '<a target=\"_blank\" href=https://colab.research.google.com/notebooks/data_table.ipynb>data table notebook</a>'\n",
              "            + ' to learn more about interactive tables.';\n",
              "          element.innerHTML = '';\n",
              "          dataTable['output_type'] = 'display_data';\n",
              "          await google.colab.output.renderOutput(dataTable, element);\n",
              "          const docLink = document.createElement('div');\n",
              "          docLink.innerHTML = docLinkHtml;\n",
              "          element.appendChild(docLink);\n",
              "        }\n",
              "      </script>\n",
              "    </div>\n",
              "  </div>\n",
              "  "
            ]
          },
          "metadata": {},
          "execution_count": 489
        }
      ],
      "source": [
        "import pandas as pd\n",
        "\n",
        "npr = pd.read_excel('/content/custom.xlsx')\n",
        "npr.head()\n"
      ]
    },
    {
      "cell_type": "code",
      "source": [
        "import pandas as pd\n",
        "import nltk\n",
        "from nltk.corpus import stopwords\n",
        "from nltk.tokenize import word_tokenize\n",
        "nltk.download('stopwords')\n",
        "nltk.download('punkt')\n",
        "\n",
        "# Read the Excel file into a pandas dataframe\n",
        "df = pd.read_excel('f.xlsx')\n",
        "\n",
        "# Set the Swedish stop words\n",
        "swedish_stopwords = set(stopwords.words('swedish'))\n",
        "\n",
        "# Loop through each row of the dataframe\n",
        "for i, row in df.iterrows():\n",
        "    # Get the text from the current row\n",
        "    text = row['Ärende']\n",
        "\n",
        "    # Tokenize the text into individual words\n",
        "    words = word_tokenize(text.lower())\n",
        "\n",
        "    # Remove the stop words\n",
        "    filtered_words = [word for word in words if word.casefold() not in swedish_stop_words]\n",
        "\n",
        "    # Join the remaining words back into a string\n",
        "    filtered_text = \" \".join(filtered_words)\n",
        "\n",
        "    # Update the 'Text' column in the current row with the filtered text\n",
        "    df.at[i, 'Ärende'] = filtered_text\n",
        "\n",
        "# Write the updated dataframe to a new Excel file\n",
        "df.to_excel('example_filtered.xlsx', index=False)\n",
        "\n"
      ],
      "metadata": {
        "colab": {
          "base_uri": "https://localhost:8080/"
        },
        "id": "MIUKxxHgf-fp",
        "outputId": "def3b969-8961-4f94-bc6a-d04a220bf304"
      },
      "execution_count": null,
      "outputs": [
        {
          "output_type": "stream",
          "name": "stderr",
          "text": [
            "[nltk_data] Downloading package stopwords to /root/nltk_data...\n",
            "[nltk_data]   Package stopwords is already up-to-date!\n",
            "[nltk_data] Downloading package punkt to /root/nltk_data...\n",
            "[nltk_data]   Package punkt is already up-to-date!\n"
          ]
        }
      ]
    },
    {
      "cell_type": "code",
      "source": [
        "import pandas as pd\n",
        "import numpy as np\n",
        "import nltk\n",
        "from nltk.corpus import stopwords\n",
        "from sklearn.feature_extraction.text import TfidfVectorizer\n",
        "from sklearn.decomposition import NMF\n",
        "nltk.download('stopwords')\n",
        "nltk.download('punkt')\n",
        "\n",
        "# Read the Excel file into a pandas dataframe\n",
        "df = pd.read_excel('custom.xlsx')#sheet_name='Sheet1')\n",
        "\n",
        "# Set the Swedish stop words\n",
        "swedish_stop_words = set(stopwords.words('swedish'))\n",
        "\n",
        "# Tokenize the text and remove stop words\n",
        "text_data = []\n",
        "for i, row in df.iterrows():\n",
        "    text = row['phrases']\n",
        "    words = nltk.word_tokenize(text.lower())\n",
        "    filtered_words = [word for word in words if word.casefold() not in swedish_stop_words]\n",
        "    text_data.append(\" \".join(filtered_words))\n",
        "\n",
        "# Convert the text data into a matrix of TF-IDF features\n",
        "#vectorizer = TfidfVectorizer(max_df=0.95, min_df=\n",
        "tfidf = TfidfVectorizer(max_df=0.95, min_df=2)\n",
        "\n"
      ],
      "metadata": {
        "colab": {
          "base_uri": "https://localhost:8080/"
        },
        "id": "uWOOMZctjoVH",
        "outputId": "33ee587f-8e81-47e9-8808-57d340f9a218"
      },
      "execution_count": null,
      "outputs": [
        {
          "output_type": "stream",
          "name": "stderr",
          "text": [
            "[nltk_data] Downloading package stopwords to /root/nltk_data...\n",
            "[nltk_data]   Package stopwords is already up-to-date!\n",
            "[nltk_data] Downloading package punkt to /root/nltk_data...\n",
            "[nltk_data]   Package punkt is already up-to-date!\n"
          ]
        }
      ]
    },
    {
      "cell_type": "code",
      "source": [
        "# Fit and transform text data\n",
        "dtm = tfidf.fit_transform(npr['phrases'])"
      ],
      "metadata": {
        "id": "4Npxd_rkl9K4"
      },
      "execution_count": null,
      "outputs": []
    },
    {
      "cell_type": "code",
      "source": [
        "from sklearn.decomposition import NMF\n",
        "nmf_model = NMF(n_components=10,random_state=42)\n",
        "nmf_model.fit(dtm)"
      ],
      "metadata": {
        "colab": {
          "base_uri": "https://localhost:8080/",
          "height": 75
        },
        "id": "xFqkovUb-O-8",
        "outputId": "c043ff05-0349-40b5-db97-b1e611ed4732"
      },
      "execution_count": null,
      "outputs": [
        {
          "output_type": "execute_result",
          "data": {
            "text/plain": [
              "NMF(n_components=10, random_state=42)"
            ],
            "text/html": [
              "<style>#sk-container-id-19 {color: black;background-color: white;}#sk-container-id-19 pre{padding: 0;}#sk-container-id-19 div.sk-toggleable {background-color: white;}#sk-container-id-19 label.sk-toggleable__label {cursor: pointer;display: block;width: 100%;margin-bottom: 0;padding: 0.3em;box-sizing: border-box;text-align: center;}#sk-container-id-19 label.sk-toggleable__label-arrow:before {content: \"▸\";float: left;margin-right: 0.25em;color: #696969;}#sk-container-id-19 label.sk-toggleable__label-arrow:hover:before {color: black;}#sk-container-id-19 div.sk-estimator:hover label.sk-toggleable__label-arrow:before {color: black;}#sk-container-id-19 div.sk-toggleable__content {max-height: 0;max-width: 0;overflow: hidden;text-align: left;background-color: #f0f8ff;}#sk-container-id-19 div.sk-toggleable__content pre {margin: 0.2em;color: black;border-radius: 0.25em;background-color: #f0f8ff;}#sk-container-id-19 input.sk-toggleable__control:checked~div.sk-toggleable__content {max-height: 200px;max-width: 100%;overflow: auto;}#sk-container-id-19 input.sk-toggleable__control:checked~label.sk-toggleable__label-arrow:before {content: \"▾\";}#sk-container-id-19 div.sk-estimator input.sk-toggleable__control:checked~label.sk-toggleable__label {background-color: #d4ebff;}#sk-container-id-19 div.sk-label input.sk-toggleable__control:checked~label.sk-toggleable__label {background-color: #d4ebff;}#sk-container-id-19 input.sk-hidden--visually {border: 0;clip: rect(1px 1px 1px 1px);clip: rect(1px, 1px, 1px, 1px);height: 1px;margin: -1px;overflow: hidden;padding: 0;position: absolute;width: 1px;}#sk-container-id-19 div.sk-estimator {font-family: monospace;background-color: #f0f8ff;border: 1px dotted black;border-radius: 0.25em;box-sizing: border-box;margin-bottom: 0.5em;}#sk-container-id-19 div.sk-estimator:hover {background-color: #d4ebff;}#sk-container-id-19 div.sk-parallel-item::after {content: \"\";width: 100%;border-bottom: 1px solid gray;flex-grow: 1;}#sk-container-id-19 div.sk-label:hover label.sk-toggleable__label {background-color: #d4ebff;}#sk-container-id-19 div.sk-serial::before {content: \"\";position: absolute;border-left: 1px solid gray;box-sizing: border-box;top: 0;bottom: 0;left: 50%;z-index: 0;}#sk-container-id-19 div.sk-serial {display: flex;flex-direction: column;align-items: center;background-color: white;padding-right: 0.2em;padding-left: 0.2em;position: relative;}#sk-container-id-19 div.sk-item {position: relative;z-index: 1;}#sk-container-id-19 div.sk-parallel {display: flex;align-items: stretch;justify-content: center;background-color: white;position: relative;}#sk-container-id-19 div.sk-item::before, #sk-container-id-19 div.sk-parallel-item::before {content: \"\";position: absolute;border-left: 1px solid gray;box-sizing: border-box;top: 0;bottom: 0;left: 50%;z-index: -1;}#sk-container-id-19 div.sk-parallel-item {display: flex;flex-direction: column;z-index: 1;position: relative;background-color: white;}#sk-container-id-19 div.sk-parallel-item:first-child::after {align-self: flex-end;width: 50%;}#sk-container-id-19 div.sk-parallel-item:last-child::after {align-self: flex-start;width: 50%;}#sk-container-id-19 div.sk-parallel-item:only-child::after {width: 0;}#sk-container-id-19 div.sk-dashed-wrapped {border: 1px dashed gray;margin: 0 0.4em 0.5em 0.4em;box-sizing: border-box;padding-bottom: 0.4em;background-color: white;}#sk-container-id-19 div.sk-label label {font-family: monospace;font-weight: bold;display: inline-block;line-height: 1.2em;}#sk-container-id-19 div.sk-label-container {text-align: center;}#sk-container-id-19 div.sk-container {/* jupyter's `normalize.less` sets `[hidden] { display: none; }` but bootstrap.min.css set `[hidden] { display: none !important; }` so we also need the `!important` here to be able to override the default hidden behavior on the sphinx rendered scikit-learn.org. See: https://github.com/scikit-learn/scikit-learn/issues/21755 */display: inline-block !important;position: relative;}#sk-container-id-19 div.sk-text-repr-fallback {display: none;}</style><div id=\"sk-container-id-19\" class=\"sk-top-container\"><div class=\"sk-text-repr-fallback\"><pre>NMF(n_components=10, random_state=42)</pre><b>In a Jupyter environment, please rerun this cell to show the HTML representation or trust the notebook. <br />On GitHub, the HTML representation is unable to render, please try loading this page with nbviewer.org.</b></div><div class=\"sk-container\" hidden><div class=\"sk-item\"><div class=\"sk-estimator sk-toggleable\"><input class=\"sk-toggleable__control sk-hidden--visually\" id=\"sk-estimator-id-19\" type=\"checkbox\" checked><label for=\"sk-estimator-id-19\" class=\"sk-toggleable__label sk-toggleable__label-arrow\">NMF</label><div class=\"sk-toggleable__content\"><pre>NMF(n_components=10, random_state=42)</pre></div></div></div></div></div>"
            ]
          },
          "metadata": {},
          "execution_count": 517
        }
      ]
    },
    {
      "cell_type": "code",
      "source": [
        "len(tfidf.get_feature_names_out())"
      ],
      "metadata": {
        "colab": {
          "base_uri": "https://localhost:8080/"
        },
        "id": "LRaRDNkm_CVc",
        "outputId": "08e89e34-d085-4ef4-97fd-a2675fc0c084"
      },
      "execution_count": null,
      "outputs": [
        {
          "output_type": "execute_result",
          "data": {
            "text/plain": [
              "6421"
            ]
          },
          "metadata": {},
          "execution_count": 518
        }
      ]
    },
    {
      "cell_type": "code",
      "source": [
        "import random\n",
        "for i in range(10):\n",
        "    random_word_id = random.randint(0,4280)\n",
        "    print(tfidf.get_feature_names_out()[random_word_id])"
      ],
      "metadata": {
        "colab": {
          "base_uri": "https://localhost:8080/"
        },
        "id": "_ARePAL4_F3c",
        "outputId": "53287e8e-4ab4-49ee-caf3-278460864504"
      },
      "execution_count": null,
      "outputs": [
        {
          "output_type": "stream",
          "name": "stdout",
          "text": [
            "julens\n",
            "artist\n",
            "adam\n",
            "ledaren\n",
            "albin\n",
            "majsvälling\n",
            "klippningen\n",
            "kristersson\n",
            "kanonkväll\n",
            "birds\n"
          ]
        }
      ]
    },
    {
      "cell_type": "code",
      "source": [
        "\n",
        "len(nmf_model.components_)"
      ],
      "metadata": {
        "colab": {
          "base_uri": "https://localhost:8080/"
        },
        "id": "xx4W9zG0_Mz0",
        "outputId": "08a8b33e-a984-4b57-b402-367768fad096"
      },
      "execution_count": null,
      "outputs": [
        {
          "output_type": "execute_result",
          "data": {
            "text/plain": [
              "10"
            ]
          },
          "metadata": {},
          "execution_count": 520
        }
      ]
    },
    {
      "cell_type": "code",
      "source": [
        "\n",
        "nmf_model.components_\n",
        "\n",
        "len(nmf_model.components_[0])"
      ],
      "metadata": {
        "colab": {
          "base_uri": "https://localhost:8080/"
        },
        "id": "v3lL1ARC_XUU",
        "outputId": "2420d593-3059-454c-8be8-9edbcfe727c8"
      },
      "execution_count": null,
      "outputs": [
        {
          "output_type": "execute_result",
          "data": {
            "text/plain": [
              "6421"
            ]
          },
          "metadata": {},
          "execution_count": 521
        }
      ]
    },
    {
      "cell_type": "code",
      "source": [
        "single_topic = nmf_model.components_[0]\n",
        "\n",
        "single_topic.argsort()"
      ],
      "metadata": {
        "colab": {
          "base_uri": "https://localhost:8080/"
        },
        "id": "UKLlOezh_a1s",
        "outputId": "bd460b72-b5ab-45d6-dc1d-bf4c2ca9ae8a"
      },
      "execution_count": null,
      "outputs": [
        {
          "output_type": "execute_result",
          "data": {
            "text/plain": [
              "array([3210, 1314, 5718, ..., 6203, 6023,  965])"
            ]
          },
          "metadata": {},
          "execution_count": 522
        }
      ]
    },
    {
      "cell_type": "code",
      "source": [
        "len(single_topic)"
      ],
      "metadata": {
        "colab": {
          "base_uri": "https://localhost:8080/"
        },
        "id": "mUzyHWN__dQd",
        "outputId": "4f8ddb4d-0afa-426e-e211-15394b8756db"
      },
      "execution_count": null,
      "outputs": [
        {
          "output_type": "execute_result",
          "data": {
            "text/plain": [
              "6421"
            ]
          },
          "metadata": {},
          "execution_count": 523
        }
      ]
    },
    {
      "cell_type": "code",
      "source": [
        "single_topic[4000]"
      ],
      "metadata": {
        "colab": {
          "base_uri": "https://localhost:8080/"
        },
        "id": "Vtc6Or2v_fla",
        "outputId": "6b0c2061-397d-43f3-a42e-2bdb92908393"
      },
      "execution_count": null,
      "outputs": [
        {
          "output_type": "execute_result",
          "data": {
            "text/plain": [
              "0.010171050267866978"
            ]
          },
          "metadata": {},
          "execution_count": 524
        }
      ]
    },
    {
      "cell_type": "code",
      "source": [
        "single_topic[4238]"
      ],
      "metadata": {
        "colab": {
          "base_uri": "https://localhost:8080/"
        },
        "id": "s6_EuSXt_h-O",
        "outputId": "572268e5-c6a7-48df-dbaf-f732eb94ea02"
      },
      "execution_count": null,
      "outputs": [
        {
          "output_type": "execute_result",
          "data": {
            "text/plain": [
              "0.0013047666144405717"
            ]
          },
          "metadata": {},
          "execution_count": 525
        }
      ]
    },
    {
      "cell_type": "code",
      "source": [
        "single_topic.argsort()[-10:]"
      ],
      "metadata": {
        "colab": {
          "base_uri": "https://localhost:8080/"
        },
        "id": "AgaJUgrD_rTr",
        "outputId": "3e8e1fc6-5359-49b3-d5c6-3b44bbb70a47"
      },
      "execution_count": null,
      "outputs": [
        {
          "output_type": "execute_result",
          "data": {
            "text/plain": [
              "array([1905, 5542,  217, 1196, 2019, 5541, 2024, 6203, 6023,  965])"
            ]
          },
          "metadata": {},
          "execution_count": 526
        }
      ]
    },
    {
      "cell_type": "code",
      "source": [
        "top_word_indices = single_topic.argsort()[-10:]\n",
        "\n",
        "for index in top_word_indices:\n",
        "    print(tfidf.get_feature_names_out()[index])"
      ],
      "metadata": {
        "colab": {
          "base_uri": "https://localhost:8080/"
        },
        "id": "mohBiNPz_xbr",
        "outputId": "3cd3b834-d481-4659-f8f6-8d414b5ad028"
      },
      "execution_count": null,
      "outputs": [
        {
          "output_type": "stream",
          "name": "stdout",
          "text": [
            "hela\n",
            "tiden\n",
            "appen\n",
            "fall\n",
            "hund\n",
            "tid\n",
            "hunden\n",
            "vårdguiden\n",
            "veterinär\n",
            "djurens\n"
          ]
        }
      ]
    },
    {
      "cell_type": "code",
      "source": [
        "for index,topic in enumerate(nmf_model.components_):\n",
        "    print(f'THE TOP 15 WORDS FOR TOPIC #{index}')\n",
        "    print([tfidf.get_feature_names_out()[i] for i in topic.argsort()[-15:]])\n",
        "    print('\\n')\n",
        "\n",
        "dtm.shape"
      ],
      "metadata": {
        "colab": {
          "base_uri": "https://localhost:8080/"
        },
        "id": "WRNJHesY_0dT",
        "outputId": "f3c33d31-493a-4693-b085-4168b6754871"
      },
      "execution_count": null,
      "outputs": [
        {
          "output_type": "stream",
          "name": "stdout",
          "text": [
            "THE TOP 15 WORDS FOR TOPIC #0\n",
            "['jätte', 'saker', 'folksam', 'försäkringen', 'problem', 'hela', 'tiden', 'appen', 'fall', 'hund', 'tid', 'hunden', 'vårdguiden', 'veterinär', 'djurens']\n",
            "\n",
            "\n",
            "THE TOP 15 WORDS FOR TOPIC #1\n",
            "['vantar', 'processor', 'klippen', 'pensionär', 'främlingar', 'hållplatserna', 'bokstäver', 'aromer', 'personligheter', 'ringup', 'väldigt', 'ny', 'kontakt', 'anna', 'kattlådan']\n",
            "\n",
            "\n",
            "THE TOP 15 WORDS FOR TOPIC #2\n",
            "['dottern', 'skåp', 'nattljusolja', 'citron', 'rumsren', 'benmärg', 'rösterna', 'firman', 'ljudnivå', 'albumet', 'rätten', 'hela', 'trött', 'personerna', 'nya']\n",
            "\n",
            "\n",
            "THE TOP 15 WORDS FOR TOPIC #3\n",
            "['pulver', 'kräkningar', 'gånger', 'blod', 'mat', 'torrfoder', 'maten', 'majsvälling', 'vanliga', 'vatten', 'portioner', 'foder', 'diarré', 'gastro', 'magen']\n",
            "\n",
            "\n",
            "THE TOP 15 WORDS FOR TOPIC #4\n",
            "['återfyllnad', 'vaccinationsspruta', 'rsd', 'folie', 'postadress', 'konsultationer', 'starstruck', 'veterinär', 'moderna', 'jättebra', 'vila', 'konsultation', 'ost', 'vaccination', 'kostnadsfria']\n",
            "\n",
            "\n",
            "THE TOP 15 WORDS FOR TOPIC #5\n",
            "['anslagen', 'merparten', 'plasten', 'inhägnad', 'vägledning', 'hullet', 'step', 'staketet', 'uppträdande', 'skadan', 'världseliten', 'satsningen', 'staket', 'katten', 'svar']\n",
            "\n",
            "\n",
            "THE TOP 15 WORDS FOR TOPIC #6\n",
            "['ödåkra', 'flickvän', 'trauma', 'baktassen', 'bali', 'färska', 'tandrot', 'läxor', 'viner', 'matbord', 'råvaror', 'turn', 'matchen', 'kväll', 'convalescent']\n",
            "\n",
            "\n",
            "THE TOP 15 WORDS FOR TOPIC #7\n",
            "['mesig', 'trigger', 'vardagsrum', 'plasttallrik', 'stallkatt', 'närmare', 'rum', 'naturen', 'samsung', 'yta', 'alarm', 'hörn', 'plats', 'massa', 'egna']\n",
            "\n",
            "\n",
            "THE TOP 15 WORDS FOR TOPIC #8\n",
            "['huden', 'öronen', 'parasiter', 'kvalster', 'veckor', 'exempel', 'hela', 'både', 'allergier', 'jätte', 'lugnande', 'klåda', 'knottror', 'schampo', 'allergi']\n",
            "\n",
            "\n",
            "THE TOP 15 WORDS FOR TOPIC #9\n",
            "['smärtor', 'sluttning', 'fortsatta', 'foxy', 'antiinflammatorisk', 'brutet', 'seniorkontroll', 'stukning', 'utredningens', 'senior', 'ben', 'fisk', 'vanligt', 'speciellt', 'njurarna']\n",
            "\n",
            "\n"
          ]
        },
        {
          "output_type": "execute_result",
          "data": {
            "text/plain": [
              "(14494, 6421)"
            ]
          },
          "metadata": {},
          "execution_count": 528
        }
      ]
    },
    {
      "cell_type": "code",
      "source": [
        "len(npr)"
      ],
      "metadata": {
        "id": "LEVwr_86_7Jl",
        "colab": {
          "base_uri": "https://localhost:8080/"
        },
        "outputId": "dfaf5e67-d2e9-49d0-8fec-2f0607a0847e"
      },
      "execution_count": null,
      "outputs": [
        {
          "output_type": "execute_result",
          "data": {
            "text/plain": [
              "14494"
            ]
          },
          "metadata": {},
          "execution_count": 529
        }
      ]
    },
    {
      "cell_type": "code",
      "source": [
        "topic_results = nmf_model.transform(dtm)\n",
        "\n",
        "topic_results.shape"
      ],
      "metadata": {
        "id": "l8Dr771q__u0",
        "colab": {
          "base_uri": "https://localhost:8080/"
        },
        "outputId": "9a574397-7c65-4f8c-f30a-6f1ca3632ef5"
      },
      "execution_count": null,
      "outputs": [
        {
          "output_type": "execute_result",
          "data": {
            "text/plain": [
              "(14494, 10)"
            ]
          },
          "metadata": {},
          "execution_count": 530
        }
      ]
    },
    {
      "cell_type": "code",
      "source": [
        "topic_results[5].round(2)"
      ],
      "metadata": {
        "id": "XNc4ziRFACDs",
        "colab": {
          "base_uri": "https://localhost:8080/"
        },
        "outputId": "b78ea786-9dcb-40d9-91c2-4f5135999cf2"
      },
      "execution_count": null,
      "outputs": [
        {
          "output_type": "execute_result",
          "data": {
            "text/plain": [
              "array([0.  , 0.26, 0.  , 0.  , 0.  , 0.  , 0.  , 0.  , 0.  , 0.  ])"
            ]
          },
          "metadata": {},
          "execution_count": 531
        }
      ]
    },
    {
      "cell_type": "code",
      "source": [
        "topic_results[0].argmax()"
      ],
      "metadata": {
        "id": "FXF03YJPAE3d",
        "colab": {
          "base_uri": "https://localhost:8080/"
        },
        "outputId": "6e86ffad-1f3f-4707-efaa-f8216d662561"
      },
      "execution_count": null,
      "outputs": [
        {
          "output_type": "execute_result",
          "data": {
            "text/plain": [
              "1"
            ]
          },
          "metadata": {},
          "execution_count": 532
        }
      ]
    },
    {
      "cell_type": "code",
      "source": [
        "npr.head()"
      ],
      "metadata": {
        "id": "x5hb35NIAHOj",
        "colab": {
          "base_uri": "https://localhost:8080/",
          "height": 206
        },
        "outputId": "c79e4fd3-9dd7-4d7a-f914-4d16ac539b78"
      },
      "execution_count": null,
      "outputs": [
        {
          "output_type": "execute_result",
          "data": {
            "text/plain": [
              "                  Date                                             Ärende  \\\n",
              "0  2022-07-05 11:02:27  hallå hallå  ja det är lite dålig täckning äve...   \n",
              "1  2022-07-05 11:02:27  hallå hallå  ja det är lite dålig täckning äve...   \n",
              "2  2022-07-05 11:02:27  hallå hallå  ja det är lite dålig täckning äve...   \n",
              "3  2022-07-05 11:02:27  hallå hallå  ja det är lite dålig täckning äve...   \n",
              "4  2022-07-05 11:02:27  hallå hallå  ja det är lite dålig täckning äve...   \n",
              "\n",
              "                                             phrases  \\\n",
              "0  början ren väldigt torr, klippen  smörkniv väl...   \n",
              "1  början ren väldigt torr, klippen  smörkniv väl...   \n",
              "2  början ren väldigt torr, klippen  smörkniv väl...   \n",
              "3  början ren väldigt torr, klippen  smörkniv väl...   \n",
              "4  början ren väldigt torr, klippen  smörkniv väl...   \n",
              "\n",
              "                                         phrase  Topic  \n",
              "0                       början ren väldigt torr      1  \n",
              "1   klippen  smörkniv väldigt leverpastej tryck      1  \n",
              "2                               ryska kattlådan      1  \n",
              "3                             ställen kattlådan      1  \n",
              "4                           kattlådan sovrummet      1  "
            ],
            "text/html": [
              "\n",
              "  <div id=\"df-cd92471b-a9b7-4e49-a385-b7f541852562\">\n",
              "    <div class=\"colab-df-container\">\n",
              "      <div>\n",
              "<style scoped>\n",
              "    .dataframe tbody tr th:only-of-type {\n",
              "        vertical-align: middle;\n",
              "    }\n",
              "\n",
              "    .dataframe tbody tr th {\n",
              "        vertical-align: top;\n",
              "    }\n",
              "\n",
              "    .dataframe thead th {\n",
              "        text-align: right;\n",
              "    }\n",
              "</style>\n",
              "<table border=\"1\" class=\"dataframe\">\n",
              "  <thead>\n",
              "    <tr style=\"text-align: right;\">\n",
              "      <th></th>\n",
              "      <th>Date</th>\n",
              "      <th>Ärende</th>\n",
              "      <th>phrases</th>\n",
              "      <th>phrase</th>\n",
              "      <th>Topic</th>\n",
              "    </tr>\n",
              "  </thead>\n",
              "  <tbody>\n",
              "    <tr>\n",
              "      <th>0</th>\n",
              "      <td>2022-07-05 11:02:27</td>\n",
              "      <td>hallå hallå  ja det är lite dålig täckning äve...</td>\n",
              "      <td>början ren väldigt torr, klippen  smörkniv väl...</td>\n",
              "      <td>början ren väldigt torr</td>\n",
              "      <td>1</td>\n",
              "    </tr>\n",
              "    <tr>\n",
              "      <th>1</th>\n",
              "      <td>2022-07-05 11:02:27</td>\n",
              "      <td>hallå hallå  ja det är lite dålig täckning äve...</td>\n",
              "      <td>början ren väldigt torr, klippen  smörkniv väl...</td>\n",
              "      <td>klippen  smörkniv väldigt leverpastej tryck</td>\n",
              "      <td>1</td>\n",
              "    </tr>\n",
              "    <tr>\n",
              "      <th>2</th>\n",
              "      <td>2022-07-05 11:02:27</td>\n",
              "      <td>hallå hallå  ja det är lite dålig täckning äve...</td>\n",
              "      <td>början ren väldigt torr, klippen  smörkniv väl...</td>\n",
              "      <td>ryska kattlådan</td>\n",
              "      <td>1</td>\n",
              "    </tr>\n",
              "    <tr>\n",
              "      <th>3</th>\n",
              "      <td>2022-07-05 11:02:27</td>\n",
              "      <td>hallå hallå  ja det är lite dålig täckning äve...</td>\n",
              "      <td>början ren väldigt torr, klippen  smörkniv väl...</td>\n",
              "      <td>ställen kattlådan</td>\n",
              "      <td>1</td>\n",
              "    </tr>\n",
              "    <tr>\n",
              "      <th>4</th>\n",
              "      <td>2022-07-05 11:02:27</td>\n",
              "      <td>hallå hallå  ja det är lite dålig täckning äve...</td>\n",
              "      <td>början ren väldigt torr, klippen  smörkniv väl...</td>\n",
              "      <td>kattlådan sovrummet</td>\n",
              "      <td>1</td>\n",
              "    </tr>\n",
              "  </tbody>\n",
              "</table>\n",
              "</div>\n",
              "      <button class=\"colab-df-convert\" onclick=\"convertToInteractive('df-cd92471b-a9b7-4e49-a385-b7f541852562')\"\n",
              "              title=\"Convert this dataframe to an interactive table.\"\n",
              "              style=\"display:none;\">\n",
              "        \n",
              "  <svg xmlns=\"http://www.w3.org/2000/svg\" height=\"24px\"viewBox=\"0 0 24 24\"\n",
              "       width=\"24px\">\n",
              "    <path d=\"M0 0h24v24H0V0z\" fill=\"none\"/>\n",
              "    <path d=\"M18.56 5.44l.94 2.06.94-2.06 2.06-.94-2.06-.94-.94-2.06-.94 2.06-2.06.94zm-11 1L8.5 8.5l.94-2.06 2.06-.94-2.06-.94L8.5 2.5l-.94 2.06-2.06.94zm10 10l.94 2.06.94-2.06 2.06-.94-2.06-.94-.94-2.06-.94 2.06-2.06.94z\"/><path d=\"M17.41 7.96l-1.37-1.37c-.4-.4-.92-.59-1.43-.59-.52 0-1.04.2-1.43.59L10.3 9.45l-7.72 7.72c-.78.78-.78 2.05 0 2.83L4 21.41c.39.39.9.59 1.41.59.51 0 1.02-.2 1.41-.59l7.78-7.78 2.81-2.81c.8-.78.8-2.07 0-2.86zM5.41 20L4 18.59l7.72-7.72 1.47 1.35L5.41 20z\"/>\n",
              "  </svg>\n",
              "      </button>\n",
              "      \n",
              "  <style>\n",
              "    .colab-df-container {\n",
              "      display:flex;\n",
              "      flex-wrap:wrap;\n",
              "      gap: 12px;\n",
              "    }\n",
              "\n",
              "    .colab-df-convert {\n",
              "      background-color: #E8F0FE;\n",
              "      border: none;\n",
              "      border-radius: 50%;\n",
              "      cursor: pointer;\n",
              "      display: none;\n",
              "      fill: #1967D2;\n",
              "      height: 32px;\n",
              "      padding: 0 0 0 0;\n",
              "      width: 32px;\n",
              "    }\n",
              "\n",
              "    .colab-df-convert:hover {\n",
              "      background-color: #E2EBFA;\n",
              "      box-shadow: 0px 1px 2px rgba(60, 64, 67, 0.3), 0px 1px 3px 1px rgba(60, 64, 67, 0.15);\n",
              "      fill: #174EA6;\n",
              "    }\n",
              "\n",
              "    [theme=dark] .colab-df-convert {\n",
              "      background-color: #3B4455;\n",
              "      fill: #D2E3FC;\n",
              "    }\n",
              "\n",
              "    [theme=dark] .colab-df-convert:hover {\n",
              "      background-color: #434B5C;\n",
              "      box-shadow: 0px 1px 3px 1px rgba(0, 0, 0, 0.15);\n",
              "      filter: drop-shadow(0px 1px 2px rgba(0, 0, 0, 0.3));\n",
              "      fill: #FFFFFF;\n",
              "    }\n",
              "  </style>\n",
              "\n",
              "      <script>\n",
              "        const buttonEl =\n",
              "          document.querySelector('#df-cd92471b-a9b7-4e49-a385-b7f541852562 button.colab-df-convert');\n",
              "        buttonEl.style.display =\n",
              "          google.colab.kernel.accessAllowed ? 'block' : 'none';\n",
              "\n",
              "        async function convertToInteractive(key) {\n",
              "          const element = document.querySelector('#df-cd92471b-a9b7-4e49-a385-b7f541852562');\n",
              "          const dataTable =\n",
              "            await google.colab.kernel.invokeFunction('convertToInteractive',\n",
              "                                                     [key], {});\n",
              "          if (!dataTable) return;\n",
              "\n",
              "          const docLinkHtml = 'Like what you see? Visit the ' +\n",
              "            '<a target=\"_blank\" href=https://colab.research.google.com/notebooks/data_table.ipynb>data table notebook</a>'\n",
              "            + ' to learn more about interactive tables.';\n",
              "          element.innerHTML = '';\n",
              "          dataTable['output_type'] = 'display_data';\n",
              "          await google.colab.output.renderOutput(dataTable, element);\n",
              "          const docLink = document.createElement('div');\n",
              "          docLink.innerHTML = docLinkHtml;\n",
              "          element.appendChild(docLink);\n",
              "        }\n",
              "      </script>\n",
              "    </div>\n",
              "  </div>\n",
              "  "
            ]
          },
          "metadata": {},
          "execution_count": 533
        }
      ]
    },
    {
      "cell_type": "code",
      "source": [
        "\n",
        "topic_results.argmax(axis=1)"
      ],
      "metadata": {
        "id": "tnqq2ULyAJSs",
        "colab": {
          "base_uri": "https://localhost:8080/"
        },
        "outputId": "2b4286ef-cb81-4376-8941-996b4f3ff11f"
      },
      "execution_count": null,
      "outputs": [
        {
          "output_type": "execute_result",
          "data": {
            "text/plain": [
              "array([1, 1, 1, ..., 0, 0, 0])"
            ]
          },
          "metadata": {},
          "execution_count": 534
        }
      ]
    },
    {
      "cell_type": "code",
      "source": [
        "npr['Topic'] = topic_results.argmax(axis=1)"
      ],
      "metadata": {
        "id": "V8Uqd7ZtAL40"
      },
      "execution_count": null,
      "outputs": []
    },
    {
      "cell_type": "code",
      "source": [
        "npr['Topic']"
      ],
      "metadata": {
        "id": "nAZ8gbWJATbU",
        "colab": {
          "base_uri": "https://localhost:8080/"
        },
        "outputId": "ee011ff3-eda6-4410-e951-3f85e78499a7"
      },
      "execution_count": null,
      "outputs": [
        {
          "output_type": "execute_result",
          "data": {
            "text/plain": [
              "0        1\n",
              "1        1\n",
              "2        1\n",
              "3        1\n",
              "4        1\n",
              "        ..\n",
              "14489    0\n",
              "14490    3\n",
              "14491    0\n",
              "14492    0\n",
              "14493    0\n",
              "Name: Topic, Length: 14494, dtype: int64"
            ]
          },
          "metadata": {},
          "execution_count": 536
        }
      ]
    },
    {
      "cell_type": "code",
      "source": [
        "npr['Topic'] = topic_results.argmax(axis=1)\n",
        "npr.head(20)"
      ],
      "metadata": {
        "id": "M_9kvRh-Aoma",
        "colab": {
          "base_uri": "https://localhost:8080/",
          "height": 677
        },
        "outputId": "d5c8d8bd-536d-482e-ca43-275cc7e231ab"
      },
      "execution_count": null,
      "outputs": [
        {
          "output_type": "execute_result",
          "data": {
            "text/plain": [
              "                   Date                                             Ärende  \\\n",
              "0   2022-07-05 11:02:27  hallå hallå  ja det är lite dålig täckning äve...   \n",
              "1   2022-07-05 11:02:27  hallå hallå  ja det är lite dålig täckning äve...   \n",
              "2   2022-07-05 11:02:27  hallå hallå  ja det är lite dålig täckning äve...   \n",
              "3   2022-07-05 11:02:27  hallå hallå  ja det är lite dålig täckning äve...   \n",
              "4   2022-07-05 11:02:27  hallå hallå  ja det är lite dålig täckning äve...   \n",
              "5   2022-07-05 11:02:27  hallå hallå  ja det är lite dålig täckning äve...   \n",
              "6   2022-07-05 11:02:27  hallå hallå  ja det är lite dålig täckning äve...   \n",
              "7   2022-07-05 11:02:27  hallå hallå  ja det är lite dålig täckning äve...   \n",
              "8   2022-07-05 11:02:27  hallå hallå  ja det är lite dålig täckning äve...   \n",
              "9   2022-07-05 11:02:27  hallå hallå  ja det är lite dålig täckning äve...   \n",
              "10  2022-07-05 11:02:27  hallå hallå  ja det är lite dålig täckning äve...   \n",
              "11  2022-07-05 11:02:27  hallå hallå  ja det är lite dålig täckning äve...   \n",
              "12  2022-07-05 11:02:27  hallå hallå  ja det är lite dålig täckning äve...   \n",
              "13  2022-07-05 11:02:27  hallå hallå  ja det är lite dålig täckning äve...   \n",
              "14  2022-07-05 11:02:27  hallå hallå  ja det är lite dålig täckning äve...   \n",
              "15  2022-07-05 11:02:27  hallå hallå  ja det är lite dålig täckning äve...   \n",
              "16  2022-07-05 11:02:27  hallå hallå  ja det är lite dålig täckning äve...   \n",
              "17  2022-07-05 11:02:27  hallå hallå  ja det är lite dålig täckning äve...   \n",
              "18  2022-07-05 11:02:27  hallå hallå  ja det är lite dålig täckning äve...   \n",
              "19  2022-07-05 11:02:27  hallå hallå  ja det är lite dålig täckning äve...   \n",
              "\n",
              "                                              phrases  \\\n",
              "0   början ren väldigt torr, klippen  smörkniv väl...   \n",
              "1   början ren väldigt torr, klippen  smörkniv väl...   \n",
              "2   början ren väldigt torr, klippen  smörkniv väl...   \n",
              "3   början ren väldigt torr, klippen  smörkniv väl...   \n",
              "4   början ren väldigt torr, klippen  smörkniv väl...   \n",
              "5   början ren väldigt torr, klippen  smörkniv väl...   \n",
              "6   början ren väldigt torr, klippen  smörkniv väl...   \n",
              "7   början ren väldigt torr, klippen  smörkniv väl...   \n",
              "8   början ren väldigt torr, klippen  smörkniv väl...   \n",
              "9   början ren väldigt torr, klippen  smörkniv väl...   \n",
              "10  början ren väldigt torr, klippen  smörkniv väl...   \n",
              "11  början ren väldigt torr, klippen  smörkniv väl...   \n",
              "12  början ren väldigt torr, klippen  smörkniv väl...   \n",
              "13  början ren väldigt torr, klippen  smörkniv väl...   \n",
              "14  början ren väldigt torr, klippen  smörkniv väl...   \n",
              "15  början ren väldigt torr, klippen  smörkniv väl...   \n",
              "16  början ren väldigt torr, klippen  smörkniv väl...   \n",
              "17  början ren väldigt torr, klippen  smörkniv väl...   \n",
              "18  början ren väldigt torr, klippen  smörkniv väl...   \n",
              "19  början ren väldigt torr, klippen  smörkniv väl...   \n",
              "\n",
              "                                          phrase  Topic  \n",
              "0                        början ren väldigt torr      1  \n",
              "1    klippen  smörkniv väldigt leverpastej tryck      1  \n",
              "2                                ryska kattlådan      1  \n",
              "3                              ställen kattlådan      1  \n",
              "4                            kattlådan sovrummet      1  \n",
              "5                                        allting      1  \n",
              "6                                      ny rummet      1  \n",
              "7                                        tålamod      1  \n",
              "8                                 typ hela tiden      1  \n",
              "9                                   extra vatten      1  \n",
              "10                                  fall nyfiken      1  \n",
              "11                                         köket      1  \n",
              "12                                 johanna kväll      1  \n",
              "13                                    fel ställe      1  \n",
              "14                            jättebra messalian      1  \n",
              "15                                       problem      1  \n",
              "16                                       grottan      1  \n",
              "17                                 bokstäver typ      1  \n",
              "18                                          sätt      1  \n",
              "19                              mänsklig kontakt      1  "
            ],
            "text/html": [
              "\n",
              "  <div id=\"df-f59512c2-1091-4c00-a9c9-fae984d0a758\">\n",
              "    <div class=\"colab-df-container\">\n",
              "      <div>\n",
              "<style scoped>\n",
              "    .dataframe tbody tr th:only-of-type {\n",
              "        vertical-align: middle;\n",
              "    }\n",
              "\n",
              "    .dataframe tbody tr th {\n",
              "        vertical-align: top;\n",
              "    }\n",
              "\n",
              "    .dataframe thead th {\n",
              "        text-align: right;\n",
              "    }\n",
              "</style>\n",
              "<table border=\"1\" class=\"dataframe\">\n",
              "  <thead>\n",
              "    <tr style=\"text-align: right;\">\n",
              "      <th></th>\n",
              "      <th>Date</th>\n",
              "      <th>Ärende</th>\n",
              "      <th>phrases</th>\n",
              "      <th>phrase</th>\n",
              "      <th>Topic</th>\n",
              "    </tr>\n",
              "  </thead>\n",
              "  <tbody>\n",
              "    <tr>\n",
              "      <th>0</th>\n",
              "      <td>2022-07-05 11:02:27</td>\n",
              "      <td>hallå hallå  ja det är lite dålig täckning äve...</td>\n",
              "      <td>början ren väldigt torr, klippen  smörkniv väl...</td>\n",
              "      <td>början ren väldigt torr</td>\n",
              "      <td>1</td>\n",
              "    </tr>\n",
              "    <tr>\n",
              "      <th>1</th>\n",
              "      <td>2022-07-05 11:02:27</td>\n",
              "      <td>hallå hallå  ja det är lite dålig täckning äve...</td>\n",
              "      <td>början ren väldigt torr, klippen  smörkniv väl...</td>\n",
              "      <td>klippen  smörkniv väldigt leverpastej tryck</td>\n",
              "      <td>1</td>\n",
              "    </tr>\n",
              "    <tr>\n",
              "      <th>2</th>\n",
              "      <td>2022-07-05 11:02:27</td>\n",
              "      <td>hallå hallå  ja det är lite dålig täckning äve...</td>\n",
              "      <td>början ren väldigt torr, klippen  smörkniv väl...</td>\n",
              "      <td>ryska kattlådan</td>\n",
              "      <td>1</td>\n",
              "    </tr>\n",
              "    <tr>\n",
              "      <th>3</th>\n",
              "      <td>2022-07-05 11:02:27</td>\n",
              "      <td>hallå hallå  ja det är lite dålig täckning äve...</td>\n",
              "      <td>början ren väldigt torr, klippen  smörkniv väl...</td>\n",
              "      <td>ställen kattlådan</td>\n",
              "      <td>1</td>\n",
              "    </tr>\n",
              "    <tr>\n",
              "      <th>4</th>\n",
              "      <td>2022-07-05 11:02:27</td>\n",
              "      <td>hallå hallå  ja det är lite dålig täckning äve...</td>\n",
              "      <td>början ren väldigt torr, klippen  smörkniv väl...</td>\n",
              "      <td>kattlådan sovrummet</td>\n",
              "      <td>1</td>\n",
              "    </tr>\n",
              "    <tr>\n",
              "      <th>5</th>\n",
              "      <td>2022-07-05 11:02:27</td>\n",
              "      <td>hallå hallå  ja det är lite dålig täckning äve...</td>\n",
              "      <td>början ren väldigt torr, klippen  smörkniv väl...</td>\n",
              "      <td>allting</td>\n",
              "      <td>1</td>\n",
              "    </tr>\n",
              "    <tr>\n",
              "      <th>6</th>\n",
              "      <td>2022-07-05 11:02:27</td>\n",
              "      <td>hallå hallå  ja det är lite dålig täckning äve...</td>\n",
              "      <td>början ren väldigt torr, klippen  smörkniv väl...</td>\n",
              "      <td>ny rummet</td>\n",
              "      <td>1</td>\n",
              "    </tr>\n",
              "    <tr>\n",
              "      <th>7</th>\n",
              "      <td>2022-07-05 11:02:27</td>\n",
              "      <td>hallå hallå  ja det är lite dålig täckning äve...</td>\n",
              "      <td>början ren väldigt torr, klippen  smörkniv väl...</td>\n",
              "      <td>tålamod</td>\n",
              "      <td>1</td>\n",
              "    </tr>\n",
              "    <tr>\n",
              "      <th>8</th>\n",
              "      <td>2022-07-05 11:02:27</td>\n",
              "      <td>hallå hallå  ja det är lite dålig täckning äve...</td>\n",
              "      <td>början ren väldigt torr, klippen  smörkniv väl...</td>\n",
              "      <td>typ hela tiden</td>\n",
              "      <td>1</td>\n",
              "    </tr>\n",
              "    <tr>\n",
              "      <th>9</th>\n",
              "      <td>2022-07-05 11:02:27</td>\n",
              "      <td>hallå hallå  ja det är lite dålig täckning äve...</td>\n",
              "      <td>början ren väldigt torr, klippen  smörkniv väl...</td>\n",
              "      <td>extra vatten</td>\n",
              "      <td>1</td>\n",
              "    </tr>\n",
              "    <tr>\n",
              "      <th>10</th>\n",
              "      <td>2022-07-05 11:02:27</td>\n",
              "      <td>hallå hallå  ja det är lite dålig täckning äve...</td>\n",
              "      <td>början ren väldigt torr, klippen  smörkniv väl...</td>\n",
              "      <td>fall nyfiken</td>\n",
              "      <td>1</td>\n",
              "    </tr>\n",
              "    <tr>\n",
              "      <th>11</th>\n",
              "      <td>2022-07-05 11:02:27</td>\n",
              "      <td>hallå hallå  ja det är lite dålig täckning äve...</td>\n",
              "      <td>början ren väldigt torr, klippen  smörkniv väl...</td>\n",
              "      <td>köket</td>\n",
              "      <td>1</td>\n",
              "    </tr>\n",
              "    <tr>\n",
              "      <th>12</th>\n",
              "      <td>2022-07-05 11:02:27</td>\n",
              "      <td>hallå hallå  ja det är lite dålig täckning äve...</td>\n",
              "      <td>början ren väldigt torr, klippen  smörkniv väl...</td>\n",
              "      <td>johanna kväll</td>\n",
              "      <td>1</td>\n",
              "    </tr>\n",
              "    <tr>\n",
              "      <th>13</th>\n",
              "      <td>2022-07-05 11:02:27</td>\n",
              "      <td>hallå hallå  ja det är lite dålig täckning äve...</td>\n",
              "      <td>början ren väldigt torr, klippen  smörkniv väl...</td>\n",
              "      <td>fel ställe</td>\n",
              "      <td>1</td>\n",
              "    </tr>\n",
              "    <tr>\n",
              "      <th>14</th>\n",
              "      <td>2022-07-05 11:02:27</td>\n",
              "      <td>hallå hallå  ja det är lite dålig täckning äve...</td>\n",
              "      <td>början ren väldigt torr, klippen  smörkniv väl...</td>\n",
              "      <td>jättebra messalian</td>\n",
              "      <td>1</td>\n",
              "    </tr>\n",
              "    <tr>\n",
              "      <th>15</th>\n",
              "      <td>2022-07-05 11:02:27</td>\n",
              "      <td>hallå hallå  ja det är lite dålig täckning äve...</td>\n",
              "      <td>början ren väldigt torr, klippen  smörkniv väl...</td>\n",
              "      <td>problem</td>\n",
              "      <td>1</td>\n",
              "    </tr>\n",
              "    <tr>\n",
              "      <th>16</th>\n",
              "      <td>2022-07-05 11:02:27</td>\n",
              "      <td>hallå hallå  ja det är lite dålig täckning äve...</td>\n",
              "      <td>början ren väldigt torr, klippen  smörkniv väl...</td>\n",
              "      <td>grottan</td>\n",
              "      <td>1</td>\n",
              "    </tr>\n",
              "    <tr>\n",
              "      <th>17</th>\n",
              "      <td>2022-07-05 11:02:27</td>\n",
              "      <td>hallå hallå  ja det är lite dålig täckning äve...</td>\n",
              "      <td>början ren väldigt torr, klippen  smörkniv väl...</td>\n",
              "      <td>bokstäver typ</td>\n",
              "      <td>1</td>\n",
              "    </tr>\n",
              "    <tr>\n",
              "      <th>18</th>\n",
              "      <td>2022-07-05 11:02:27</td>\n",
              "      <td>hallå hallå  ja det är lite dålig täckning äve...</td>\n",
              "      <td>början ren väldigt torr, klippen  smörkniv väl...</td>\n",
              "      <td>sätt</td>\n",
              "      <td>1</td>\n",
              "    </tr>\n",
              "    <tr>\n",
              "      <th>19</th>\n",
              "      <td>2022-07-05 11:02:27</td>\n",
              "      <td>hallå hallå  ja det är lite dålig täckning äve...</td>\n",
              "      <td>början ren väldigt torr, klippen  smörkniv väl...</td>\n",
              "      <td>mänsklig kontakt</td>\n",
              "      <td>1</td>\n",
              "    </tr>\n",
              "  </tbody>\n",
              "</table>\n",
              "</div>\n",
              "      <button class=\"colab-df-convert\" onclick=\"convertToInteractive('df-f59512c2-1091-4c00-a9c9-fae984d0a758')\"\n",
              "              title=\"Convert this dataframe to an interactive table.\"\n",
              "              style=\"display:none;\">\n",
              "        \n",
              "  <svg xmlns=\"http://www.w3.org/2000/svg\" height=\"24px\"viewBox=\"0 0 24 24\"\n",
              "       width=\"24px\">\n",
              "    <path d=\"M0 0h24v24H0V0z\" fill=\"none\"/>\n",
              "    <path d=\"M18.56 5.44l.94 2.06.94-2.06 2.06-.94-2.06-.94-.94-2.06-.94 2.06-2.06.94zm-11 1L8.5 8.5l.94-2.06 2.06-.94-2.06-.94L8.5 2.5l-.94 2.06-2.06.94zm10 10l.94 2.06.94-2.06 2.06-.94-2.06-.94-.94-2.06-.94 2.06-2.06.94z\"/><path d=\"M17.41 7.96l-1.37-1.37c-.4-.4-.92-.59-1.43-.59-.52 0-1.04.2-1.43.59L10.3 9.45l-7.72 7.72c-.78.78-.78 2.05 0 2.83L4 21.41c.39.39.9.59 1.41.59.51 0 1.02-.2 1.41-.59l7.78-7.78 2.81-2.81c.8-.78.8-2.07 0-2.86zM5.41 20L4 18.59l7.72-7.72 1.47 1.35L5.41 20z\"/>\n",
              "  </svg>\n",
              "      </button>\n",
              "      \n",
              "  <style>\n",
              "    .colab-df-container {\n",
              "      display:flex;\n",
              "      flex-wrap:wrap;\n",
              "      gap: 12px;\n",
              "    }\n",
              "\n",
              "    .colab-df-convert {\n",
              "      background-color: #E8F0FE;\n",
              "      border: none;\n",
              "      border-radius: 50%;\n",
              "      cursor: pointer;\n",
              "      display: none;\n",
              "      fill: #1967D2;\n",
              "      height: 32px;\n",
              "      padding: 0 0 0 0;\n",
              "      width: 32px;\n",
              "    }\n",
              "\n",
              "    .colab-df-convert:hover {\n",
              "      background-color: #E2EBFA;\n",
              "      box-shadow: 0px 1px 2px rgba(60, 64, 67, 0.3), 0px 1px 3px 1px rgba(60, 64, 67, 0.15);\n",
              "      fill: #174EA6;\n",
              "    }\n",
              "\n",
              "    [theme=dark] .colab-df-convert {\n",
              "      background-color: #3B4455;\n",
              "      fill: #D2E3FC;\n",
              "    }\n",
              "\n",
              "    [theme=dark] .colab-df-convert:hover {\n",
              "      background-color: #434B5C;\n",
              "      box-shadow: 0px 1px 3px 1px rgba(0, 0, 0, 0.15);\n",
              "      filter: drop-shadow(0px 1px 2px rgba(0, 0, 0, 0.3));\n",
              "      fill: #FFFFFF;\n",
              "    }\n",
              "  </style>\n",
              "\n",
              "      <script>\n",
              "        const buttonEl =\n",
              "          document.querySelector('#df-f59512c2-1091-4c00-a9c9-fae984d0a758 button.colab-df-convert');\n",
              "        buttonEl.style.display =\n",
              "          google.colab.kernel.accessAllowed ? 'block' : 'none';\n",
              "\n",
              "        async function convertToInteractive(key) {\n",
              "          const element = document.querySelector('#df-f59512c2-1091-4c00-a9c9-fae984d0a758');\n",
              "          const dataTable =\n",
              "            await google.colab.kernel.invokeFunction('convertToInteractive',\n",
              "                                                     [key], {});\n",
              "          if (!dataTable) return;\n",
              "\n",
              "          const docLinkHtml = 'Like what you see? Visit the ' +\n",
              "            '<a target=\"_blank\" href=https://colab.research.google.com/notebooks/data_table.ipynb>data table notebook</a>'\n",
              "            + ' to learn more about interactive tables.';\n",
              "          element.innerHTML = '';\n",
              "          dataTable['output_type'] = 'display_data';\n",
              "          await google.colab.output.renderOutput(dataTable, element);\n",
              "          const docLink = document.createElement('div');\n",
              "          docLink.innerHTML = docLinkHtml;\n",
              "          element.appendChild(docLink);\n",
              "        }\n",
              "      </script>\n",
              "    </div>\n",
              "  </div>\n",
              "  "
            ]
          },
          "metadata": {},
          "execution_count": 537
        }
      ]
    },
    {
      "cell_type": "code",
      "source": [
        "npr.tail(10)"
      ],
      "metadata": {
        "id": "62envnECP9F5",
        "colab": {
          "base_uri": "https://localhost:8080/",
          "height": 363
        },
        "outputId": "a0e4c9d7-bf65-43fc-e3e0-5dbb96a3bd5e"
      },
      "execution_count": null,
      "outputs": [
        {
          "output_type": "execute_result",
          "data": {
            "text/plain": [
              "                      Date                                             Ärende  \\\n",
              "14484  2022-07-05 11:02:27  välkommen till djurens vårdguiden pratar med e...   \n",
              "14485  2022-07-05 11:02:27  vårdguiden prata med elin hejsan mitt namn är ...   \n",
              "14486  2022-07-05 11:02:27  kommer inte 2288 djurens vårdguiden prata med ...   \n",
              "14487  2022-07-05 11:02:27  välkommen till 28 djurens vårdguiden prata med...   \n",
              "14488  2022-07-05 11:02:27  välkommen till 2288 djurens vårdguiden prata m...   \n",
              "14489  2022-07-05 11:02:27  kommer det 2288 djurens vårdguiden pratar man ...   \n",
              "14490  2022-07-05 11:02:27  välkommen till 2288 djurens vårdguiden prata m...   \n",
              "14491  2022-07-05 11:02:27  välkommen till djurens vårdguiden prata med el...   \n",
              "14492  2022-07-05 11:02:27  välkommen till 2288 djurens vårdguiden pratar ...   \n",
              "14493  2022-07-05 11:02:27  välkommen till 2288 djurens vårdguiden prata m...   \n",
              "\n",
              "                                                 phrases               phrase  \\\n",
              "14484  slickar, hela tiden, riktigt otur, problem, ov...   djurens vårdguiden   \n",
              "14485  hundar, katter, djurens vårdguiden, vaccinet, ...   djurens vårdguiden   \n",
              "14486  helgen, applåd applåd applåd, hallsberg väldig...   djurens vårdguiden   \n",
              "14487  hund, djurens vårdguiden, gunilla, appen, firs...   djurens vårdguiden   \n",
              "14488  tid, djurens vårdguiden, katter, djur hundar, ...   djurens vårdguiden   \n",
              "14489  samtalet, hunden, kompisar, aktuell vikt, rece...   djurens vårdguiden   \n",
              "14490  jättebra vatten, vuxen mat, blöt mat, blod, ex...   djurens vårdguiden   \n",
              "14491  valpen, konsultation, akut djursjukhus, kontak...   djurens vårdguiden   \n",
              "14492  vanligt tecken, padda, veterinär, munnen, appe...   djurens vårdguiden   \n",
              "14493  veckor, hund nos, vaccinet, håll koll, andning...   djurens vårdguiden   \n",
              "\n",
              "       Topic  \n",
              "14484      0  \n",
              "14485      0  \n",
              "14486      0  \n",
              "14487      0  \n",
              "14488      0  \n",
              "14489      0  \n",
              "14490      3  \n",
              "14491      0  \n",
              "14492      0  \n",
              "14493      0  "
            ],
            "text/html": [
              "\n",
              "  <div id=\"df-1dc52afb-9482-4fef-beb5-303007f2a099\">\n",
              "    <div class=\"colab-df-container\">\n",
              "      <div>\n",
              "<style scoped>\n",
              "    .dataframe tbody tr th:only-of-type {\n",
              "        vertical-align: middle;\n",
              "    }\n",
              "\n",
              "    .dataframe tbody tr th {\n",
              "        vertical-align: top;\n",
              "    }\n",
              "\n",
              "    .dataframe thead th {\n",
              "        text-align: right;\n",
              "    }\n",
              "</style>\n",
              "<table border=\"1\" class=\"dataframe\">\n",
              "  <thead>\n",
              "    <tr style=\"text-align: right;\">\n",
              "      <th></th>\n",
              "      <th>Date</th>\n",
              "      <th>Ärende</th>\n",
              "      <th>phrases</th>\n",
              "      <th>phrase</th>\n",
              "      <th>Topic</th>\n",
              "    </tr>\n",
              "  </thead>\n",
              "  <tbody>\n",
              "    <tr>\n",
              "      <th>14484</th>\n",
              "      <td>2022-07-05 11:02:27</td>\n",
              "      <td>välkommen till djurens vårdguiden pratar med e...</td>\n",
              "      <td>slickar, hela tiden, riktigt otur, problem, ov...</td>\n",
              "      <td>djurens vårdguiden</td>\n",
              "      <td>0</td>\n",
              "    </tr>\n",
              "    <tr>\n",
              "      <th>14485</th>\n",
              "      <td>2022-07-05 11:02:27</td>\n",
              "      <td>vårdguiden prata med elin hejsan mitt namn är ...</td>\n",
              "      <td>hundar, katter, djurens vårdguiden, vaccinet, ...</td>\n",
              "      <td>djurens vårdguiden</td>\n",
              "      <td>0</td>\n",
              "    </tr>\n",
              "    <tr>\n",
              "      <th>14486</th>\n",
              "      <td>2022-07-05 11:02:27</td>\n",
              "      <td>kommer inte 2288 djurens vårdguiden prata med ...</td>\n",
              "      <td>helgen, applåd applåd applåd, hallsberg väldig...</td>\n",
              "      <td>djurens vårdguiden</td>\n",
              "      <td>0</td>\n",
              "    </tr>\n",
              "    <tr>\n",
              "      <th>14487</th>\n",
              "      <td>2022-07-05 11:02:27</td>\n",
              "      <td>välkommen till 28 djurens vårdguiden prata med...</td>\n",
              "      <td>hund, djurens vårdguiden, gunilla, appen, firs...</td>\n",
              "      <td>djurens vårdguiden</td>\n",
              "      <td>0</td>\n",
              "    </tr>\n",
              "    <tr>\n",
              "      <th>14488</th>\n",
              "      <td>2022-07-05 11:02:27</td>\n",
              "      <td>välkommen till 2288 djurens vårdguiden prata m...</td>\n",
              "      <td>tid, djurens vårdguiden, katter, djur hundar, ...</td>\n",
              "      <td>djurens vårdguiden</td>\n",
              "      <td>0</td>\n",
              "    </tr>\n",
              "    <tr>\n",
              "      <th>14489</th>\n",
              "      <td>2022-07-05 11:02:27</td>\n",
              "      <td>kommer det 2288 djurens vårdguiden pratar man ...</td>\n",
              "      <td>samtalet, hunden, kompisar, aktuell vikt, rece...</td>\n",
              "      <td>djurens vårdguiden</td>\n",
              "      <td>0</td>\n",
              "    </tr>\n",
              "    <tr>\n",
              "      <th>14490</th>\n",
              "      <td>2022-07-05 11:02:27</td>\n",
              "      <td>välkommen till 2288 djurens vårdguiden prata m...</td>\n",
              "      <td>jättebra vatten, vuxen mat, blöt mat, blod, ex...</td>\n",
              "      <td>djurens vårdguiden</td>\n",
              "      <td>3</td>\n",
              "    </tr>\n",
              "    <tr>\n",
              "      <th>14491</th>\n",
              "      <td>2022-07-05 11:02:27</td>\n",
              "      <td>välkommen till djurens vårdguiden prata med el...</td>\n",
              "      <td>valpen, konsultation, akut djursjukhus, kontak...</td>\n",
              "      <td>djurens vårdguiden</td>\n",
              "      <td>0</td>\n",
              "    </tr>\n",
              "    <tr>\n",
              "      <th>14492</th>\n",
              "      <td>2022-07-05 11:02:27</td>\n",
              "      <td>välkommen till 2288 djurens vårdguiden pratar ...</td>\n",
              "      <td>vanligt tecken, padda, veterinär, munnen, appe...</td>\n",
              "      <td>djurens vårdguiden</td>\n",
              "      <td>0</td>\n",
              "    </tr>\n",
              "    <tr>\n",
              "      <th>14493</th>\n",
              "      <td>2022-07-05 11:02:27</td>\n",
              "      <td>välkommen till 2288 djurens vårdguiden prata m...</td>\n",
              "      <td>veckor, hund nos, vaccinet, håll koll, andning...</td>\n",
              "      <td>djurens vårdguiden</td>\n",
              "      <td>0</td>\n",
              "    </tr>\n",
              "  </tbody>\n",
              "</table>\n",
              "</div>\n",
              "      <button class=\"colab-df-convert\" onclick=\"convertToInteractive('df-1dc52afb-9482-4fef-beb5-303007f2a099')\"\n",
              "              title=\"Convert this dataframe to an interactive table.\"\n",
              "              style=\"display:none;\">\n",
              "        \n",
              "  <svg xmlns=\"http://www.w3.org/2000/svg\" height=\"24px\"viewBox=\"0 0 24 24\"\n",
              "       width=\"24px\">\n",
              "    <path d=\"M0 0h24v24H0V0z\" fill=\"none\"/>\n",
              "    <path d=\"M18.56 5.44l.94 2.06.94-2.06 2.06-.94-2.06-.94-.94-2.06-.94 2.06-2.06.94zm-11 1L8.5 8.5l.94-2.06 2.06-.94-2.06-.94L8.5 2.5l-.94 2.06-2.06.94zm10 10l.94 2.06.94-2.06 2.06-.94-2.06-.94-.94-2.06-.94 2.06-2.06.94z\"/><path d=\"M17.41 7.96l-1.37-1.37c-.4-.4-.92-.59-1.43-.59-.52 0-1.04.2-1.43.59L10.3 9.45l-7.72 7.72c-.78.78-.78 2.05 0 2.83L4 21.41c.39.39.9.59 1.41.59.51 0 1.02-.2 1.41-.59l7.78-7.78 2.81-2.81c.8-.78.8-2.07 0-2.86zM5.41 20L4 18.59l7.72-7.72 1.47 1.35L5.41 20z\"/>\n",
              "  </svg>\n",
              "      </button>\n",
              "      \n",
              "  <style>\n",
              "    .colab-df-container {\n",
              "      display:flex;\n",
              "      flex-wrap:wrap;\n",
              "      gap: 12px;\n",
              "    }\n",
              "\n",
              "    .colab-df-convert {\n",
              "      background-color: #E8F0FE;\n",
              "      border: none;\n",
              "      border-radius: 50%;\n",
              "      cursor: pointer;\n",
              "      display: none;\n",
              "      fill: #1967D2;\n",
              "      height: 32px;\n",
              "      padding: 0 0 0 0;\n",
              "      width: 32px;\n",
              "    }\n",
              "\n",
              "    .colab-df-convert:hover {\n",
              "      background-color: #E2EBFA;\n",
              "      box-shadow: 0px 1px 2px rgba(60, 64, 67, 0.3), 0px 1px 3px 1px rgba(60, 64, 67, 0.15);\n",
              "      fill: #174EA6;\n",
              "    }\n",
              "\n",
              "    [theme=dark] .colab-df-convert {\n",
              "      background-color: #3B4455;\n",
              "      fill: #D2E3FC;\n",
              "    }\n",
              "\n",
              "    [theme=dark] .colab-df-convert:hover {\n",
              "      background-color: #434B5C;\n",
              "      box-shadow: 0px 1px 3px 1px rgba(0, 0, 0, 0.15);\n",
              "      filter: drop-shadow(0px 1px 2px rgba(0, 0, 0, 0.3));\n",
              "      fill: #FFFFFF;\n",
              "    }\n",
              "  </style>\n",
              "\n",
              "      <script>\n",
              "        const buttonEl =\n",
              "          document.querySelector('#df-1dc52afb-9482-4fef-beb5-303007f2a099 button.colab-df-convert');\n",
              "        buttonEl.style.display =\n",
              "          google.colab.kernel.accessAllowed ? 'block' : 'none';\n",
              "\n",
              "        async function convertToInteractive(key) {\n",
              "          const element = document.querySelector('#df-1dc52afb-9482-4fef-beb5-303007f2a099');\n",
              "          const dataTable =\n",
              "            await google.colab.kernel.invokeFunction('convertToInteractive',\n",
              "                                                     [key], {});\n",
              "          if (!dataTable) return;\n",
              "\n",
              "          const docLinkHtml = 'Like what you see? Visit the ' +\n",
              "            '<a target=\"_blank\" href=https://colab.research.google.com/notebooks/data_table.ipynb>data table notebook</a>'\n",
              "            + ' to learn more about interactive tables.';\n",
              "          element.innerHTML = '';\n",
              "          dataTable['output_type'] = 'display_data';\n",
              "          await google.colab.output.renderOutput(dataTable, element);\n",
              "          const docLink = document.createElement('div');\n",
              "          docLink.innerHTML = docLinkHtml;\n",
              "          element.appendChild(docLink);\n",
              "        }\n",
              "      </script>\n",
              "    </div>\n",
              "  </div>\n",
              "  "
            ]
          },
          "metadata": {},
          "execution_count": 538
        }
      ]
    },
    {
      "cell_type": "code",
      "source": [
        "##npr['Topic'] = topic_results.argmax(axis=1)\n",
        "\n",
        "\n",
        "\n",
        "#topicdict  = {0:'health',1:'election',2:'legis',3:'policy',4:'candidates',5:'music',6:'educaion'}\n",
        "\n",
        "#npr['Topic Label'] = npr['Topic'].map(topicdict)\n",
        "\n",
        "#npr.head(10)"
      ],
      "metadata": {
        "id": "QanfiTF0AVzb"
      },
      "execution_count": null,
      "outputs": []
    },
    {
      "cell_type": "code",
      "source": [],
      "metadata": {
        "id": "C6UHENGsAbMd"
      },
      "execution_count": null,
      "outputs": []
    }
  ]
}